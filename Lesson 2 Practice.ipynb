{
 "cells": [
  {
   "cell_type": "code",
   "execution_count": 1,
   "id": "21b41b8d-ccab-4cd0-a438-a8223fa0356b",
   "metadata": {},
   "outputs": [],
   "source": [
    "!pip install -Uqq fastbook"
   ]
  },
  {
   "cell_type": "code",
   "execution_count": 2,
   "id": "616c4de8-e207-468f-a7c6-26b1c026216b",
   "metadata": {},
   "outputs": [],
   "source": [
    "from fastai import *\n",
    "import numpy as np\n",
    "import pandas as pd\n",
    "from fastbook import *\n",
    "import matplotlib.pyplot as plt\n",
    "from fastai.vision.widgets import *"
   ]
  },
  {
   "cell_type": "code",
   "execution_count": 3,
   "id": "e4002ae1-c0a2-42e4-9fbd-1855c11c15c7",
   "metadata": {},
   "outputs": [
    {
     "name": "stdout",
     "output_type": "stream",
     "text": [
      "Downloading pictures of F16 Fighting Falcon\n",
      "Downloading pictures of F4 Phantom\n",
      "Downloading pictures of F117 Nighthawk\n",
      "Downloading pictures of F22 Raptor\n"
     ]
    }
   ],
   "source": [
    "aircraft_types = ['F16 Fighting Falcon', 'F4 Phantom', 'F117 Nighthawk', 'F22 Raptor']\n",
    "path = Path('Aircrafts')\n",
    "\n",
    "if not path.exists():\n",
    "    path.mkdir()\n",
    "    for o in aircraft_types:\n",
    "        print(f'Downloading pictures of {o}')\n",
    "        dest = path/o\n",
    "        dest.mkdir(exist_ok=True)\n",
    "        results = search_images_ddg(f'{o}')\n",
    "        download_images(dest, urls=results)"
   ]
  },
  {
   "cell_type": "code",
   "execution_count": null,
   "id": "8db2c857-42e1-4f34-a4ce-6e2b814ed989",
   "metadata": {},
   "outputs": [],
   "source": [
    "fns = get_image_files(path)\n",
    "failed = verify_images(fns)"
   ]
  },
  {
   "cell_type": "code",
   "execution_count": null,
   "id": "c9cdbe3d-76c0-4d01-8a38-714f7f50972a",
   "metadata": {},
   "outputs": [],
   "source": [
    "failed.map(Path.unlink)"
   ]
  },
  {
   "cell_type": "code",
   "execution_count": null,
   "id": "d1c7233b-c7cb-41ed-b4bd-e8ad22e32947",
   "metadata": {},
   "outputs": [],
   "source": [
    "acs = DataBlock(\n",
    "    blocks = (ImageBlock, CategoryBlock),\n",
    "    get_items = get_image_files,\n",
    "    splitter = RandomSplitter(valid_pct = 0.2, seed = 40),\n",
    "    get_y = parent_label,\n",
    "    item_tfms = Resize(128))"
   ]
  },
  {
   "cell_type": "code",
   "execution_count": null,
   "id": "d0539487-46e5-4dc9-b35e-506a7176a569",
   "metadata": {},
   "outputs": [],
   "source": [
    "dls = acs.dataloaders(path)"
   ]
  },
  {
   "cell_type": "code",
   "execution_count": null,
   "id": "5bc8d33e-8e0a-4e37-ad04-7c38c67601b4",
   "metadata": {},
   "outputs": [],
   "source": [
    "acs = acs.new(\n",
    "    item_tfms = RandomResizedCrop(225, min_scale = 0.5), \n",
    "    batch_tfms = aug_transforms())\n",
    "dls = acs.dataloaders(path)"
   ]
  },
  {
   "cell_type": "code",
   "execution_count": null,
   "id": "2fe676e3-b8de-494f-968c-8a75a0b5b02b",
   "metadata": {},
   "outputs": [],
   "source": [
    "learn = vision_learner(dls, resnet18, metrics = error_rate)\n",
    "learn.fine_tune(4)"
   ]
  },
  {
   "cell_type": "code",
   "execution_count": null,
   "id": "a3a3deb9-961a-477c-99f5-8cf5c5dbf0db",
   "metadata": {},
   "outputs": [],
   "source": [
    "interp = ClassificationInterpretation.from_learner(learn)\n",
    "interp.plot_confusion_matrix()\n"
   ]
  },
  {
   "cell_type": "code",
   "execution_count": null,
   "id": "03df1feb-e51d-4800-94f9-c7dd59b37da5",
   "metadata": {},
   "outputs": [],
   "source": [
    "interp.plot_top_losses(4, nrows = 1)"
   ]
  },
  {
   "cell_type": "code",
   "execution_count": null,
   "id": "48d9dd29-e8a8-4b04-9f4d-6a5cb1b7d928",
   "metadata": {},
   "outputs": [],
   "source": [
    "cleaner = ImageClassifierCleaner(learn)\n",
    "cleaner"
   ]
  },
  {
   "cell_type": "code",
   "execution_count": null,
   "id": "682d1c42-163b-4140-9644-1db538296b50",
   "metadata": {},
   "outputs": [],
   "source": [
    "for idx,cat in cleaner.change(): shutil.move(str(cleaner.fns[idx]), path/cat)"
   ]
  },
  {
   "cell_type": "code",
   "execution_count": null,
   "id": "f3d2c0e3-b297-4517-9f61-e087b14f595f",
   "metadata": {},
   "outputs": [],
   "source": [
    "for idx in cleaner.delete(): cleaner.fns[idx].unlink()"
   ]
  },
  {
   "cell_type": "code",
   "execution_count": null,
   "id": "93c68919-3d7a-4103-bc57-506d77093566",
   "metadata": {},
   "outputs": [],
   "source": [
    "learn.export()"
   ]
  },
  {
   "cell_type": "code",
   "execution_count": 4,
   "id": "7989c97c-3c73-4a04-82a1-15f36b852801",
   "metadata": {},
   "outputs": [
    {
     "data": {
      "text/plain": [
       "(#1) [Path('export.pkl')]"
      ]
     },
     "execution_count": 4,
     "metadata": {},
     "output_type": "execute_result"
    }
   ],
   "source": [
    "path = Path()\n",
    "path.ls(file_exts='.pkl')"
   ]
  },
  {
   "cell_type": "code",
   "execution_count": 5,
   "id": "e536b8c7-fcb0-4ad1-ac66-009f2f289270",
   "metadata": {},
   "outputs": [],
   "source": [
    "learner_inf = load_learner(path/'export.pkl')"
   ]
  },
  {
   "cell_type": "code",
   "execution_count": 7,
   "id": "fe24024c-3ef7-44df-868e-c4d0b057110d",
   "metadata": {},
   "outputs": [
    {
     "data": {
      "text/html": [
       "\n",
       "<style>\n",
       "    /* Turns off some styling */\n",
       "    progress {\n",
       "        /* gets rid of default border in Firefox and Opera. */\n",
       "        border: none;\n",
       "        /* Needs to be in here for Safari polyfill so background images work as expected. */\n",
       "        background-size: auto;\n",
       "    }\n",
       "    progress:not([value]), progress:not([value])::-webkit-progress-bar {\n",
       "        background: repeating-linear-gradient(45deg, #7e7e7e, #7e7e7e 10px, #5c5c5c 10px, #5c5c5c 20px);\n",
       "    }\n",
       "    .progress-bar-interrupted, .progress-bar-interrupted::-webkit-progress-bar {\n",
       "        background: #F44336;\n",
       "    }\n",
       "</style>\n"
      ],
      "text/plain": [
       "<IPython.core.display.HTML object>"
      ]
     },
     "metadata": {},
     "output_type": "display_data"
    },
    {
     "data": {
      "text/html": [],
      "text/plain": [
       "<IPython.core.display.HTML object>"
      ]
     },
     "metadata": {},
     "output_type": "display_data"
    },
    {
     "data": {
      "text/plain": [
       "('F22 Raptor',\n",
       " TensorBase(2),\n",
       " TensorBase([1.2035e-08, 5.3973e-08, 1.0000e+00, 3.0286e-07]))"
      ]
     },
     "execution_count": 7,
     "metadata": {},
     "output_type": "execute_result"
    }
   ],
   "source": [
    "learner_inf.predict(path/'f22.jpg')"
   ]
  },
  {
   "cell_type": "code",
   "execution_count": 8,
   "id": "74ace52e-437b-4efc-bdef-cad10683dd0b",
   "metadata": {},
   "outputs": [
    {
     "data": {
      "text/plain": [
       "['F117 Nighthawk', 'F16 Fighting Falcon', 'F22 Raptor', 'F4 Phantom']"
      ]
     },
     "execution_count": 8,
     "metadata": {},
     "output_type": "execute_result"
    }
   ],
   "source": [
    "learner_inf.dls.vocab"
   ]
  },
  {
   "cell_type": "code",
   "execution_count": 20,
   "id": "c80a1d54-85ff-4b90-ac93-979c57e58e45",
   "metadata": {},
   "outputs": [
    {
     "data": {
      "application/vnd.jupyter.widget-view+json": {
       "model_id": "9f53bf7a8edb480a8fb0e4a967f735b7",
       "version_major": 2,
       "version_minor": 0
      },
      "text/plain": [
       "FileUpload(value={}, description='Upload')"
      ]
     },
     "metadata": {},
     "output_type": "display_data"
    }
   ],
   "source": [
    "btn_upload = widgets.FileUpload(multiple = False)\n",
    "btn_upload"
   ]
  },
  {
   "cell_type": "code",
   "execution_count": 8,
   "id": "95a33abb-e5e2-437a-80d4-c9326b0f883c",
   "metadata": {},
   "outputs": [
    {
     "ename": "NameError",
     "evalue": "name 'img' is not defined",
     "output_type": "error",
     "traceback": [
      "\u001b[0;31m---------------------------------------------------------------------------\u001b[0m",
      "\u001b[0;31mNameError\u001b[0m                                 Traceback (most recent call last)",
      "Input \u001b[0;32mIn [8]\u001b[0m, in \u001b[0;36m<cell line: 1>\u001b[0;34m()\u001b[0m\n\u001b[0;32m----> 1\u001b[0m pred, pred_idx, probs \u001b[38;5;241m=\u001b[39m learner_inf\u001b[38;5;241m.\u001b[39mpredict(\u001b[43mimg\u001b[49m)\n",
      "\u001b[0;31mNameError\u001b[0m: name 'img' is not defined"
     ]
    }
   ],
   "source": [
    "pred, pred_idx, probs = learner_inf.predict(img)"
   ]
  },
  {
   "cell_type": "code",
   "execution_count": null,
   "id": "b5fe80ae-6379-4f39-a77a-fe6cb7d18648",
   "metadata": {},
   "outputs": [
    {
     "ename": "NameError",
     "evalue": "name 'pred' is not defined",
     "output_type": "error",
     "traceback": [
      "\u001b[0;31m---------------------------------------------------------------------------\u001b[0m",
      "\u001b[0;31mNameError\u001b[0m                                 Traceback (most recent call last)",
      "Input \u001b[0;32mIn [7]\u001b[0m, in \u001b[0;36m<cell line: 2>\u001b[0;34m()\u001b[0m\n\u001b[1;32m      1\u001b[0m lbl_pred \u001b[38;5;241m=\u001b[39m widgets\u001b[38;5;241m.\u001b[39mLabel()\n\u001b[0;32m----> 2\u001b[0m lbl_pred\u001b[38;5;241m.\u001b[39mvalue \u001b[38;5;241m=\u001b[39m \u001b[38;5;124mf\u001b[39m\u001b[38;5;124m'\u001b[39m\u001b[38;5;124mPrediction: \u001b[39m\u001b[38;5;132;01m{\u001b[39;00mpred\u001b[38;5;132;01m}\u001b[39;00m\u001b[38;5;124m, Probability: \u001b[39m\u001b[38;5;132;01m{\u001b[39;00mprobs[pred_idx]\u001b[38;5;132;01m:\u001b[39;00m\u001b[38;5;124m.03f\u001b[39m\u001b[38;5;132;01m}\u001b[39;00m\u001b[38;5;124m'\u001b[39m\n\u001b[1;32m      3\u001b[0m lbl_pred\n",
      "\u001b[0;31mNameError\u001b[0m: name 'pred' is not defined"
     ]
    }
   ],
   "source": [
    "lbl_pred = widgets.Label()\n",
    "lbl_pred.value = f'Prediction: {pred}, Probability: {probs[pred_idx]:.03f}'\n",
    "lbl_pred"
   ]
  },
  {
   "cell_type": "code",
   "execution_count": 14,
   "id": "ee1c8a2d-e1a6-4733-a999-d05a4ae58a95",
   "metadata": {},
   "outputs": [],
   "source": [
    "out_pl = widgets.Output()\n",
    "out_pl.clear_output()\n",
    "with out_pl: display(img.to_thumb(128,128))"
   ]
  },
  {
   "cell_type": "code",
   "execution_count": 17,
   "id": "fcbaa177-6b24-484b-818d-9a5787026cb8",
   "metadata": {},
   "outputs": [],
   "source": [
    "def on_click_classify(change):\n",
    "    img = PILImage.create(btn_upload.data[-1])\n",
    "    out_pl.clear_output()\n",
    "    with out_pl: display(img.to_thumb(128,128))\n",
    "    pred,pred_idx,probs = learner_inf.predict(img)\n",
    "    lbl_pred.value = f'Prediction: {pred}; Probability: {probs[pred_idx]:.04f}'"
   ]
  },
  {
   "cell_type": "code",
   "execution_count": 22,
   "id": "cc472b21-bcd3-4461-afca-b9b1fa4854c6",
   "metadata": {},
   "outputs": [],
   "source": [
    "btn_run = widgets.Button(description = 'Classify')\n",
    "btn_run.on_click(on_click_classify)"
   ]
  },
  {
   "cell_type": "code",
   "execution_count": 21,
   "id": "d8bb9980-774e-4436-bc72-a969233321c2",
   "metadata": {},
   "outputs": [
    {
     "data": {
      "application/vnd.jupyter.widget-view+json": {
       "model_id": "845647558b53469f8281338bb2a0fdd3",
       "version_major": 2,
       "version_minor": 0
      },
      "text/plain": [
       "VBox(children=(Label(value='Upload your aircraft!'), FileUpload(value={}, description='Upload'), Button(descri…"
      ]
     },
     "metadata": {},
     "output_type": "display_data"
    }
   ],
   "source": [
    "VBox([widgets.Label('Upload your aircraft!'),\n",
    "     btn_upload, btn_run, out_pl, lbl_pred])"
   ]
  },
  {
   "cell_type": "code",
   "execution_count": null,
   "id": "c144d49e-9c43-4a4f-810e-e94291de311c",
   "metadata": {},
   "outputs": [],
   "source": []
  }
 ],
 "metadata": {
  "kernelspec": {
   "display_name": "Python 3 (ipykernel)",
   "language": "python",
   "name": "python3"
  },
  "language_info": {
   "codemirror_mode": {
    "name": "ipython",
    "version": 3
   },
   "file_extension": ".py",
   "mimetype": "text/x-python",
   "name": "python",
   "nbconvert_exporter": "python",
   "pygments_lexer": "ipython3",
   "version": "3.9.13"
  }
 },
 "nbformat": 4,
 "nbformat_minor": 5
}
